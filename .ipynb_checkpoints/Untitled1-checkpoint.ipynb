{
 "cells": [
  {
   "cell_type": "code",
   "execution_count": 9,
   "metadata": {},
   "outputs": [
    {
     "name": "stdout",
     "output_type": "stream",
     "text": [
      "   browser        email    abteilung\n",
      "0  Firefox  Thunderbird     Vertrieb\n",
      "1  Firefox      Outlook     Vertrieb\n",
      "2       IE      Outlook  Entwicklung\n",
      "3  Firefox      Outlook  Entwicklung\n",
      "4       IE  Thunderbird  Entwicklung\n"
     ]
    }
   ],
   "source": [
    "import pandas as pd \n",
    "import matplotlib.pyplot as plt\n",
    "import numpy as np\n",
    "\n",
    "filePath = \"C:\\\\Users\\\\lkrei\\\\Desktop\\\\Python\\\\Datenanalyse\\\\Einheit 4\\\\umfrage.csv\"\n",
    "\n",
    "#read File\n",
    "data = pd.read_csv(filePath, sep=\",\")\n",
    "\n",
    "#print Header\n",
    "print(data.head())"
   ]
  },
  {
   "cell_type": "code",
   "execution_count": 10,
   "metadata": {},
   "outputs": [
    {
     "name": "stdout",
     "output_type": "stream",
     "text": [
      "False\n"
     ]
    }
   ],
   "source": [
    "#Search if there is any nan\n",
    "print(data.isnull().values.any())"
   ]
  },
  {
   "cell_type": "code",
   "execution_count": 11,
   "metadata": {},
   "outputs": [
    {
     "name": "stdout",
     "output_type": "stream",
     "text": [
      "Browser\n",
      "   Browser  Absolut\n",
      "0   Chrome       16\n",
      "1  Firefox       17\n",
      "2       IE       18\n",
      "3    Opera        4\n",
      "4   Safari        5\n"
     ]
    },
    {
     "data": {
      "image/png": "[encoded data removed]",
      "text/plain": [
       "<Figure size 432x288 with 1 Axes>"
      ]
     },
     "metadata": {
      "needs_background": "light"
     },
     "output_type": "display_data"
    }
   ],
   "source": [
    "#Plot the three Columns for itself\n",
    "print(\"Browser\")\n",
    "#Convert the browser column into separate columns with 1 if the value was in this row\n",
    "browser = pd.get_dummies(data, columns=['browser'])\n",
    "\n",
    "#Create an tmp array with the label and the absolut sum of the colum\n",
    "tmp = [['Chrome',browser['browser_Chrome'].abs().sum()], \n",
    "          ['Firefox',browser['browser_Firefox'].abs().sum()], \n",
    "          ['IE',browser['browser_IE'].abs().sum()], \n",
    "          ['Opera',browser['browser_Opera'].abs().sum()], \n",
    "          ['Safari',browser['browser_Safari'].abs().sum()]]\n",
    "\n",
    "#create a dataframe from the tmp array\n",
    "factor_browser = pd.DataFrame(tmp, columns = ['Browser', 'Absolut'])\n",
    "print(factor_browser)\n",
    "\n",
    "#define the width of the bar\n",
    "width = 0.35\n",
    "\n",
    "#define the xrange\n",
    "ind = np.arange(len(factor_browser['Browser']))  \n",
    "\n",
    "#create the subplot\n",
    "fig, ax = plt.subplots()\n",
    "\n",
    "#create the bars\n",
    "rects1 = ax.bar(ind - width/2, factor_browser['Absolut'], width, color='SkyBlue')\n",
    "\n",
    "#set the ylabel\n",
    "ax.set_ylabel('Absolutwerte')\n",
    "#set the title\n",
    "ax.set_title('Browserpopularität unter Mitarbeitern')\n",
    "#set the position for the x labels\n",
    "ax.set_xticks(ind)\n",
    "\n",
    "#draw a redline at y=12\n",
    "ax.axhline(y=12, color='r')\n",
    "#set the x labels\n",
    "ax.set_xticklabels(('Chrome', 'Firefox', 'IE', 'Opera', 'Safari'))\n",
    "plt.show()"
   ]
  },
  {
   "cell_type": "code",
   "execution_count": 15,
   "metadata": {},
   "outputs": [
    {
     "name": "stdout",
     "output_type": "stream",
     "text": [
      "Mail\n",
      "          Mail  Absolut\n",
      "0      Outlook       28\n",
      "1  Thunderbird       32\n"
     ]
    },
    {
     "data": {
      "image/png": "[encoded data removed]",
      "text/plain": [
       "<Figure size 432x288 with 1 Axes>"
      ]
     },
     "metadata": {
      "needs_background": "light"
     },
     "output_type": "display_data"
    }
   ],
   "source": [
    "#Plot the three Columns for itself\n",
    "print(\"Mail\")\n",
    "#Convert the browser column into separate columns with 1 if the value was in this row\n",
    "mail = pd.get_dummies(data, columns=['email'])\n",
    "#Create an tmp array with the label and the absolut sum of the colum\n",
    "tmp = [['Outlook',mail['email_Outlook'].abs().sum()], \n",
    "       ['Thunderbird',mail['email_Thunderbird'].abs().sum()]\n",
    "      ]\n",
    "\n",
    "#create a dataframe from the tmp array\n",
    "factor_mail = pd.DataFrame(tmp, columns = ['Mail', 'Absolut'])\n",
    "print(factor_mail)\n",
    "\n",
    "\n",
    "#define the width of the bar\n",
    "width = 0.35\n",
    "\n",
    "#define the xrange\n",
    "ind = np.arange(len(factor_mail['Mail']))  \n",
    "\n",
    "#create the subplot\n",
    "fig, ax = plt.subplots()\n",
    "\n",
    "#create the bars\n",
    "rects1 = ax.bar(ind - width/2, factor_mail['Absolut'], width, color='SkyBlue')\n",
    "\n",
    "#set the ylabel\n",
    "ax.set_ylabel('Absolutwerte')\n",
    "#set the title\n",
    "ax.set_title('Häufitkgiet des Mailacconts (N=60)')\n",
    "#set the position for the x labels\n",
    "ax.set_xticks(ind)\n",
    "\n",
    "#draw a redline at y=12\n",
    "ax.axhline(y=12, color='r')\n",
    "#set the x labels\n",
    "ax.set_xticklabels(('Chrome', 'Firefox', 'IE', 'Opera', 'Safari'))\n",
    "plt.show()\n"
   ]
  },
  {
   "cell_type": "code",
   "execution_count": 16,
   "metadata": {},
   "outputs": [
    {
     "name": "stdout",
     "output_type": "stream",
     "text": [
      "Abteilung\n",
      "     Abteilung  Absolut\n",
      "0     Vertrieb       28\n",
      "1  Entwicklung       32\n"
     ]
    },
    {
     "data": {
      "image/png": "[encoded data removed]",
      "text/plain": [
       "<Figure size 432x288 with 1 Axes>"
      ]
     },
     "metadata": {
      "needs_background": "light"
     },
     "output_type": "display_data"
    }
   ],
   "source": [
    "print(\"Abteilung\")\n",
    "#Convert the browser column into separate columns with 1 if the value was in this row\n",
    "abteilung = pd.get_dummies(data, columns=['abteilung'])\n",
    "#Create an tmp array with the label and the absolut sum of the colum\n",
    "tmp = [['Vertrieb',abteilung['abteilung_Vertrieb'].abs().sum()], \n",
    "       ['Entwicklung',abteilung['abteilung_Entwicklung'].abs().sum()]\n",
    "      ]\n",
    "\n",
    "#create a dataframe from the tmp array\n",
    "factor_abteilung = pd.DataFrame(tmp, columns = ['Abteilung', 'Absolut'])\n",
    "print(factor_abteilung)\n",
    "\n",
    "\n",
    "#define the width of the bar\n",
    "width = 0.35\n",
    "\n",
    "#define the xrange\n",
    "ind = np.arange(len(factor_abteilung['Abteilung']))  \n",
    "\n",
    "#create the subplot\n",
    "fig, ax = plt.subplots()\n",
    "\n",
    "#create the bars\n",
    "rects1 = ax.bar(ind - width/2, factor_abteilung['Absolut'], width, color='SkyBlue')\n",
    "\n",
    "#set the ylabel\n",
    "ax.set_ylabel('Absolutwerte')\n",
    "#set the title\n",
    "ax.set_title('Häufigkeit der Abteilung (N=60)')\n",
    "#set the position for the x labels\n",
    "ax.set_xticks(ind)\n",
    "\n",
    "#draw a redline at y=12\n",
    "ax.axhline(y=12, color='r')\n",
    "#set the x labels\n",
    "ax.set_xticklabels(('Chrome', 'Firefox', 'IE', 'Opera', 'Safari'))\n",
    "plt.show()"
   ]
  },
  {
   "cell_type": "code",
   "execution_count": null,
   "metadata": {},
   "outputs": [],
   "source": []
  }
 ],
 "metadata": {
  "kernelspec": {
   "display_name": "Python 3",
   "language": "python",
   "name": "python3"
  },
  "language_info": {
   "codemirror_mode": {
    "name": "ipython",
    "version": 3
   },
   "file_extension": ".py",
   "mimetype": "text/x-python",
   "name": "python",
   "nbconvert_exporter": "python",
   "pygments_lexer": "ipython3",
   "version": "3.7.3"
  }
 },
 "nbformat": 4,
 "nbformat_minor": 2
}

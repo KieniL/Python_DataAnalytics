{
 "cells": [
  {
   "cell_type": "code",
   "execution_count": 1,
   "metadata": {},
   "outputs": [
    {
     "name": "stdout",
     "output_type": "stream",
     "text": [
      "   browser        email    abteilung\n",
      "0  Firefox  Thunderbird     Vertrieb\n",
      "1  Firefox      Outlook     Vertrieb\n",
      "2       IE      Outlook  Entwicklung\n",
      "3  Firefox      Outlook  Entwicklung\n",
      "4       IE  Thunderbird  Entwicklung\n"
     ]
    }
   ],
   "source": [
    "import pandas as pd\n",
    "\n",
    "filePath = \"C:\\\\Users\\\\lkrei\\\\Desktop\\\\Python\\\\Datenanalyse\\\\Einheit 3\\\\umfrage.csv\"\n",
    "\n",
    "data = pd.read_csv(filePath, sep=\",\")\n",
    "\n",
    "#Print header\n",
    "print(data.head())"
   ]
  },
  {
   "cell_type": "code",
   "execution_count": 2,
   "metadata": {},
   "outputs": [
    {
     "ename": "TypeError",
     "evalue": "bad operand type for abs(): 'str'",
     "output_type": "error",
     "traceback": [
      "\u001b[1;31m---------------------------------------------------------------------------\u001b[0m",
      "\u001b[1;31mTypeError\u001b[0m                                 Traceback (most recent call last)",
      "\u001b[1;32m<ipython-input-2-9125f3b06472>\u001b[0m in \u001b[0;36m<module>\u001b[1;34m\u001b[0m\n\u001b[1;32m----> 1\u001b[1;33m \u001b[0mdata\u001b[0m\u001b[1;33m[\u001b[0m\u001b[1;34m'browser'\u001b[0m\u001b[1;33m]\u001b[0m \u001b[1;33m=\u001b[0m \u001b[0mdata\u001b[0m\u001b[1;33m[\u001b[0m\u001b[1;34m'browser'\u001b[0m\u001b[1;33m]\u001b[0m\u001b[1;33m.\u001b[0m\u001b[0mabs\u001b[0m\u001b[1;33m(\u001b[0m\u001b[1;33m)\u001b[0m\u001b[1;33m\u001b[0m\u001b[1;33m\u001b[0m\u001b[0m\n\u001b[0m\u001b[0;32m      2\u001b[0m \u001b[0mprint\u001b[0m\u001b[1;33m(\u001b[0m\u001b[0mdata\u001b[0m\u001b[1;33m)\u001b[0m\u001b[1;33m\u001b[0m\u001b[1;33m\u001b[0m\u001b[0m\n",
      "\u001b[1;32mc:\\users\\lkrei\\appdata\\local\\programs\\python\\python37\\lib\\site-packages\\pandas\\core\\generic.py\u001b[0m in \u001b[0;36mabs\u001b[1;34m(self)\u001b[0m\n\u001b[0;32m   9480\u001b[0m         \u001b[1;36m3\u001b[0m    \u001b[1;36m7\u001b[0m   \u001b[1;36m40\u001b[0m  \u001b[1;33m-\u001b[0m\u001b[1;36m50\u001b[0m\u001b[1;33m\u001b[0m\u001b[1;33m\u001b[0m\u001b[0m\n\u001b[0;32m   9481\u001b[0m         \"\"\"\n\u001b[1;32m-> 9482\u001b[1;33m         \u001b[1;32mreturn\u001b[0m \u001b[0mnp\u001b[0m\u001b[1;33m.\u001b[0m\u001b[0mabs\u001b[0m\u001b[1;33m(\u001b[0m\u001b[0mself\u001b[0m\u001b[1;33m)\u001b[0m\u001b[1;33m\u001b[0m\u001b[1;33m\u001b[0m\u001b[0m\n\u001b[0m\u001b[0;32m   9483\u001b[0m \u001b[1;33m\u001b[0m\u001b[0m\n\u001b[0;32m   9484\u001b[0m     \u001b[1;32mdef\u001b[0m \u001b[0mdescribe\u001b[0m\u001b[1;33m(\u001b[0m\u001b[0mself\u001b[0m\u001b[1;33m,\u001b[0m \u001b[0mpercentiles\u001b[0m\u001b[1;33m=\u001b[0m\u001b[1;32mNone\u001b[0m\u001b[1;33m,\u001b[0m \u001b[0minclude\u001b[0m\u001b[1;33m=\u001b[0m\u001b[1;32mNone\u001b[0m\u001b[1;33m,\u001b[0m \u001b[0mexclude\u001b[0m\u001b[1;33m=\u001b[0m\u001b[1;32mNone\u001b[0m\u001b[1;33m)\u001b[0m\u001b[1;33m:\u001b[0m\u001b[1;33m\u001b[0m\u001b[1;33m\u001b[0m\u001b[0m\n",
      "\u001b[1;31mTypeError\u001b[0m: bad operand type for abs(): 'str'"
     ]
    }
   ],
   "source": [
    "data['browser'] = data['browser'].abs()\n",
    "print(data)"
   ]
  },
  {
   "cell_type": "code",
   "execution_count": 2,
   "metadata": {},
   "outputs": [
    {
     "name": "stdout",
     "output_type": "stream",
     "text": [
      "         email    abteilung  browser_Chrome  browser_Firefox  browser_IE  \\\n",
      "0  Thunderbird     Vertrieb               0                1           0   \n",
      "1      Outlook     Vertrieb               0                1           0   \n",
      "2      Outlook  Entwicklung               0                0           1   \n",
      "3      Outlook  Entwicklung               0                1           0   \n",
      "4  Thunderbird  Entwicklung               0                0           1   \n",
      "\n",
      "   browser_Opera  browser_Safari  \n",
      "0              0               0  \n",
      "1              0               0  \n",
      "2              0               0  \n",
      "3              0               0  \n",
      "4              0               0  \n"
     ]
    }
   ],
   "source": [
    "#Convert the browser column into separate columns with 1 if the value was in this row\n",
    "data = pd.get_dummies(data, columns=['browser'])\n",
    "print(data.head())"
   ]
  },
  {
   "cell_type": "code",
   "execution_count": 11,
   "metadata": {},
   "outputs": [
    {
     "name": "stdout",
     "output_type": "stream",
     "text": [
      "Is there any NaN?\n",
      "False\n",
      "How Nan are in there?\n",
      "0\n"
     ]
    }
   ],
   "source": [
    "#Check if Data is NaN and if Nan How often\n",
    "\n",
    "#If any null\n",
    "print(\"Is there any NaN?\")\n",
    "print(data.isnull().values.any())\n",
    "\n",
    "#Sum null\n",
    "print(\"How Nan are in there?\")\n",
    "print(data.isnull().sum().sum())"
   ]
  },
  {
   "cell_type": "code",
   "execution_count": 4,
   "metadata": {},
   "outputs": [
    {
     "name": "stdout",
     "output_type": "stream",
     "text": [
      "   Browser  Absolut\n",
      "0   Chrome       16\n",
      "1  Firefox       17\n",
      "2       IE       18\n",
      "3    Opera        4\n",
      "4   Safari        5\n"
     ]
    }
   ],
   "source": [
    "#Create an tmp array with the label and the absolut sum of the colum\n",
    "tmp = [['Chrome',data['browser_Chrome'].abs().sum()], \n",
    "          ['Firefox',data['browser_Firefox'].abs().sum()], \n",
    "          ['IE',data['browser_IE'].abs().sum()], \n",
    "          ['Opera',data['browser_Opera'].abs().sum()], \n",
    "          ['Safari',data['browser_Safari'].abs().sum()]]\n",
    "\n",
    "#create a dataframe from the tmp array\n",
    "factor = pd.DataFrame(tmp, columns = ['Browser', 'Absolut'])\n",
    "print(factor)"
   ]
  },
  {
   "cell_type": "code",
   "execution_count": 5,
   "metadata": {},
   "outputs": [
    {
     "name": "stdout",
     "output_type": "stream",
     "text": [
      "   Browser  Absolut  Percentage\n",
      "0   Chrome       16        26.7\n",
      "1  Firefox       17        28.3\n",
      "2       IE       18        30.0\n",
      "3    Opera        4         6.7\n",
      "4   Safari        5         8.3\n"
     ]
    }
   ],
   "source": [
    "#Calculate the percentage\n",
    "factor['Percentage'] = round(((factor['Absolut']/factor['Absolut'].sum())*100),1)\n",
    "print(factor)"
   ]
  },
  {
   "cell_type": "code",
   "execution_count": 6,
   "metadata": {},
   "outputs": [
    {
     "data": {
      "text/plain": [
       "<Figure size 640x480 with 1 Axes>"
      ]
     },
     "metadata": {},
     "output_type": "display_data"
    }
   ],
   "source": [
    "import matplotlib.pyplot as plt\n",
    "import numpy as np\n",
    "\n",
    "#define the width of the bar\n",
    "width = 0.35\n",
    "\n",
    "#define the xrange\n",
    "ind = np.arange(len(factor['Browser']))  \n",
    "\n",
    "#create the subplot\n",
    "fig, ax = plt.subplots()\n",
    "\n",
    "#create the bars\n",
    "rects1 = ax.bar(ind - width/2, factor['Absolut'], width, color='SkyBlue')\n",
    "\n",
    "#set the ylabel\n",
    "ax.set_ylabel('Absolutwerte')\n",
    "#set the title\n",
    "ax.set_title('Browserpopularität unter Mitarbeitern')\n",
    "#set the position for the x labels\n",
    "ax.set_xticks(ind)\n",
    "\n",
    "#draw a redline at y=12\n",
    "ax.axhline(y=12, color='r')\n",
    "#set the x labels\n",
    "ax.set_xticklabels(('Chrome', 'Firefox', 'IE', 'Opera', 'Safari'))\n",
    "plt.show()"
   ]
  },
  {
   "cell_type": "code",
   "execution_count": 7,
   "metadata": {},
   "outputs": [
    {
     "data": {
      "text/plain": [
       "Power_divergenceResult(statistic=15.833333333333332, pvalue=0.0032511565578449385)"
      ]
     },
     "execution_count": 7,
     "metadata": {},
     "output_type": "execute_result"
    }
   ],
   "source": [
    "from scipy.stats import chisquare\n",
    "\n",
    "#do a chisquate test\n",
    "chisquare(factor['Absolut'])"
   ]
  },
  {
   "cell_type": "code",
   "execution_count": 8,
   "metadata": {},
   "outputs": [],
   "source": [
    "#The pWert is 0.003 and below 0.5. The Nullhypothesis will be thrown away"
   ]
  }
 ],
 "metadata": {
  "kernelspec": {
   "display_name": "Python 3",
   "language": "python",
   "name": "python3"
  },
  "language_info": {
   "codemirror_mode": {
    "name": "ipython",
    "version": 3
   },
   "file_extension": ".py",
   "mimetype": "text/x-python",
   "name": "python",
   "nbconvert_exporter": "python",
   "pygments_lexer": "ipython3",
   "version": "3.7.3"
  }
 },
 "nbformat": 4,
 "nbformat_minor": 2
}

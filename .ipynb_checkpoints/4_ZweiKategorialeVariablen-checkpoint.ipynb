{
 "cells": [
  {
   "cell_type": "code",
   "execution_count": 66,
   "metadata": {},
   "outputs": [
    {
     "name": "stdout",
     "output_type": "stream",
     "text": [
      "   browser        email    abteilung\n",
      "0  Firefox  Thunderbird     Vertrieb\n",
      "1  Firefox      Outlook     Vertrieb\n",
      "2       IE      Outlook  Entwicklung\n",
      "3  Firefox      Outlook  Entwicklung\n",
      "4       IE  Thunderbird  Entwicklung\n"
     ]
    }
   ],
   "source": [
    "import pandas as pd \n",
    "import matplotlib.pyplot as plt\n",
    "import numpy as np\n",
    "\n",
    "filePath = \"C:\\\\Users\\\\lkrei\\\\Desktop\\\\Python\\\\Datenanalyse\\\\Einheit 4\\\\umfrage.csv\"\n",
    "\n",
    "#read File\n",
    "data = pd.read_csv(filePath, sep=\",\")\n",
    "\n",
    "#print Header\n",
    "print(data.head())"
   ]
  },
  {
   "cell_type": "code",
   "execution_count": 67,
   "metadata": {},
   "outputs": [
    {
     "name": "stdout",
     "output_type": "stream",
     "text": [
      "False\n"
     ]
    }
   ],
   "source": [
    "#Search if there is any nan\n",
    "print(data.isnull().values.any())"
   ]
  },
  {
   "cell_type": "code",
   "execution_count": 68,
   "metadata": {},
   "outputs": [
    {
     "name": "stdout",
     "output_type": "stream",
     "text": [
      "Browser\n",
      "   Browser  Absolut\n",
      "0   Chrome       16\n",
      "1  Firefox       17\n",
      "2       IE       18\n",
      "3    Opera        4\n",
      "4   Safari        5\n"
     ]
    },
    {
     "data": {
      "image/png": "[encoded data removed]",
      "text/plain": [
       "<Figure size 432x288 with 1 Axes>"
      ]
     },
     "metadata": {
      "needs_background": "light"
     },
     "output_type": "display_data"
    }
   ],
   "source": [
    "#Plot the three Columns for itself\n",
    "print(\"Browser\")\n",
    "#Convert the browser column into separate columns with 1 if the value was in this row\n",
    "browser = pd.get_dummies(data, columns=['browser'])\n",
    "\n",
    "#Create an tmp array with the label and the absolut sum of the colum\n",
    "tmp = [['Chrome',browser['browser_Chrome'].abs().sum()], \n",
    "          ['Firefox',browser['browser_Firefox'].abs().sum()], \n",
    "          ['IE',browser['browser_IE'].abs().sum()], \n",
    "          ['Opera',browser['browser_Opera'].abs().sum()], \n",
    "          ['Safari',browser['browser_Safari'].abs().sum()]]\n",
    "\n",
    "#create a dataframe from the tmp array\n",
    "factor_browser = pd.DataFrame(tmp, columns = ['Browser', 'Absolut'])\n",
    "print(factor_browser)\n",
    "\n",
    "#define the width of the bar\n",
    "width = 0.35\n",
    "\n",
    "#define the xrange\n",
    "ind = np.arange(len(factor_browser['Browser']))  \n",
    "\n",
    "#create the subplot\n",
    "fig, ax = plt.subplots()\n",
    "\n",
    "#create the bars\n",
    "rects1 = ax.bar(ind - width/2, factor_browser['Absolut'], width, color='SkyBlue')\n",
    "\n",
    "#set the ylabel\n",
    "ax.set_ylabel('Absolutwerte')\n",
    "#set the title\n",
    "ax.set_title('Browserpopularität unter Mitarbeitern')\n",
    "#set the position for the x labels\n",
    "ax.set_xticks(ind)\n",
    "\n",
    "#draw a redline at y=12\n",
    "ax.axhline(y=12, color='r')\n",
    "#set the x labels\n",
    "ax.set_xticklabels(factor_browser.Browser)\n",
    "plt.show()"
   ]
  },
  {
   "cell_type": "code",
   "execution_count": 69,
   "metadata": {},
   "outputs": [
    {
     "name": "stdout",
     "output_type": "stream",
     "text": [
      "Mail\n",
      "          Mail  Absolut\n",
      "0      Outlook       28\n",
      "1  Thunderbird       32\n"
     ]
    },
    {
     "data": {
      "image/png": "[encoded data removed]",
      "text/plain": [
       "<Figure size 432x288 with 1 Axes>"
      ]
     },
     "metadata": {
      "needs_background": "light"
     },
     "output_type": "display_data"
    }
   ],
   "source": [
    "#Plot the three Columns for itself\n",
    "print(\"Mail\")\n",
    "#Convert the browser column into separate columns with 1 if the value was in this row\n",
    "mail = pd.get_dummies(data, columns=['email'])\n",
    "#Create an tmp array with the label and the absolut sum of the colum\n",
    "tmp = [['Outlook',mail['email_Outlook'].abs().sum()], \n",
    "       ['Thunderbird',mail['email_Thunderbird'].abs().sum()]\n",
    "      ]\n",
    "\n",
    "#create a dataframe from the tmp array\n",
    "factor_mail = pd.DataFrame(tmp, columns = ['Mail', 'Absolut'])\n",
    "print(factor_mail)\n",
    "\n",
    "\n",
    "#define the width of the bar\n",
    "width = 0.35\n",
    "\n",
    "#define the xrange\n",
    "ind = np.arange(len(factor_mail['Mail']))  \n",
    "\n",
    "#create the subplot\n",
    "fig, ax = plt.subplots()\n",
    "\n",
    "#create the bars\n",
    "rects1 = ax.bar(ind - width/2, factor_mail['Absolut'], width, color='SkyBlue')\n",
    "\n",
    "#set the ylabel\n",
    "ax.set_ylabel('Absolutwerte')\n",
    "#set the title\n",
    "ax.set_title('Häufitkgiet des Mailacconts (N=60)')\n",
    "#set the position for the x labels\n",
    "ax.set_xticks(ind)\n",
    "\n",
    "#draw a redline at y=12\n",
    "ax.axhline(y=12, color='r')\n",
    "#set the x labels\n",
    "ax.set_xticklabels(factor_mail.Mail)\n",
    "plt.show()\n"
   ]
  },
  {
   "cell_type": "code",
   "execution_count": 70,
   "metadata": {},
   "outputs": [
    {
     "name": "stdout",
     "output_type": "stream",
     "text": [
      "Abteilung\n",
      "     Abteilung  Absolut\n",
      "0     Vertrieb       28\n",
      "1  Entwicklung       32\n"
     ]
    },
    {
     "data": {
      "image/png": "[encoded data removed]",
      "text/plain": [
       "<Figure size 432x288 with 1 Axes>"
      ]
     },
     "metadata": {
      "needs_background": "light"
     },
     "output_type": "display_data"
    }
   ],
   "source": [
    "print(\"Abteilung\")\n",
    "#Convert the browser column into separate columns with 1 if the value was in this row\n",
    "abteilung = pd.get_dummies(data, columns=['abteilung'])\n",
    "#Create an tmp array with the label and the absolut sum of the colum\n",
    "tmp = [['Vertrieb',abteilung['abteilung_Vertrieb'].abs().sum()], \n",
    "       ['Entwicklung',abteilung['abteilung_Entwicklung'].abs().sum()]\n",
    "      ]\n",
    "\n",
    "#create a dataframe from the tmp array\n",
    "factor_abteilung = pd.DataFrame(tmp, columns = ['Abteilung', 'Absolut'])\n",
    "print(factor_abteilung)\n",
    "\n",
    "\n",
    "#define the width of the bar\n",
    "width = 0.35\n",
    "\n",
    "#define the xrange\n",
    "ind = np.arange(len(factor_abteilung['Abteilung']))  \n",
    "\n",
    "#create the subplot\n",
    "fig, ax = plt.subplots()\n",
    "\n",
    "#create the bars\n",
    "rects1 = ax.bar(ind - width/2, factor_abteilung['Absolut'], width, color='SkyBlue')\n",
    "\n",
    "#set the ylabel\n",
    "ax.set_ylabel('Absolutwerte')\n",
    "#set the title\n",
    "ax.set_title('Häufigkeit der Abteilung (N=60)')\n",
    "#set the position for the x labels\n",
    "ax.set_xticks(ind)\n",
    "\n",
    "#draw a redline at y=12\n",
    "ax.axhline(y=12, color='r')\n",
    "#set the x labels\n",
    "ax.set_xticklabels(factor_abteilung.Abteilung)\n",
    "plt.show()"
   ]
  },
  {
   "cell_type": "code",
   "execution_count": 73,
   "metadata": {},
   "outputs": [
    {
     "name": "stdout",
     "output_type": "stream",
     "text": [
      "[[2 1 0]\n",
      " [0 1 2]]\n",
      "   Browser  Absolut\n",
      "0   Chrome       16\n",
      "1  Firefox       17\n",
      "2       IE       18\n",
      "3    Opera        4\n",
      "4   Safari        5\n",
      "          Mail  Absolut\n",
      "0      Outlook       28\n",
      "1  Thunderbird       32\n"
     ]
    },
    {
     "ename": "TypeError",
     "evalue": "'<' not supported between instances of 'int' and 'str'",
     "output_type": "error",
     "traceback": [
      "\u001b[1;31m---------------------------------------------------------------------------\u001b[0m",
      "\u001b[1;31mTypeError\u001b[0m                                 Traceback (most recent call last)",
      "\u001b[1;32m<ipython-input-73-77dadfa3dfec>\u001b[0m in \u001b[0;36m<module>\u001b[1;34m\u001b[0m\n\u001b[0;32m     10\u001b[0m \u001b[0mprint\u001b[0m\u001b[1;33m(\u001b[0m\u001b[0mfactor_browser\u001b[0m\u001b[1;33m)\u001b[0m\u001b[1;33m\u001b[0m\u001b[1;33m\u001b[0m\u001b[0m\n\u001b[0;32m     11\u001b[0m \u001b[0mprint\u001b[0m\u001b[1;33m(\u001b[0m\u001b[0mfactor_mail\u001b[0m\u001b[1;33m)\u001b[0m\u001b[1;33m\u001b[0m\u001b[1;33m\u001b[0m\u001b[0m\n\u001b[1;32m---> 12\u001b[1;33m \u001b[0mprint\u001b[0m\u001b[1;33m(\u001b[0m\u001b[0mcontingency_matrix\u001b[0m\u001b[1;33m(\u001b[0m\u001b[0mfactor_browser\u001b[0m\u001b[1;33m,\u001b[0m \u001b[0mfactor_mail\u001b[0m\u001b[1;33m)\u001b[0m\u001b[1;33m)\u001b[0m\u001b[1;33m\u001b[0m\u001b[1;33m\u001b[0m\u001b[0m\n\u001b[0m",
      "\u001b[1;32mc:\\users\\lkrei\\appdata\\local\\programs\\python\\python37\\lib\\site-packages\\sklearn\\metrics\\cluster\\supervised.py\u001b[0m in \u001b[0;36mcontingency_matrix\u001b[1;34m(labels_true, labels_pred, eps, sparse)\u001b[0m\n\u001b[0;32m    112\u001b[0m         \u001b[1;32mraise\u001b[0m \u001b[0mValueError\u001b[0m\u001b[1;33m(\u001b[0m\u001b[1;34m\"Cannot set 'eps' when sparse=True\"\u001b[0m\u001b[1;33m)\u001b[0m\u001b[1;33m\u001b[0m\u001b[1;33m\u001b[0m\u001b[0m\n\u001b[0;32m    113\u001b[0m \u001b[1;33m\u001b[0m\u001b[0m\n\u001b[1;32m--> 114\u001b[1;33m     \u001b[0mclasses\u001b[0m\u001b[1;33m,\u001b[0m \u001b[0mclass_idx\u001b[0m \u001b[1;33m=\u001b[0m \u001b[0mnp\u001b[0m\u001b[1;33m.\u001b[0m\u001b[0munique\u001b[0m\u001b[1;33m(\u001b[0m\u001b[0mlabels_true\u001b[0m\u001b[1;33m,\u001b[0m \u001b[0mreturn_inverse\u001b[0m\u001b[1;33m=\u001b[0m\u001b[1;32mTrue\u001b[0m\u001b[1;33m)\u001b[0m\u001b[1;33m\u001b[0m\u001b[1;33m\u001b[0m\u001b[0m\n\u001b[0m\u001b[0;32m    115\u001b[0m     \u001b[0mclusters\u001b[0m\u001b[1;33m,\u001b[0m \u001b[0mcluster_idx\u001b[0m \u001b[1;33m=\u001b[0m \u001b[0mnp\u001b[0m\u001b[1;33m.\u001b[0m\u001b[0munique\u001b[0m\u001b[1;33m(\u001b[0m\u001b[0mlabels_pred\u001b[0m\u001b[1;33m,\u001b[0m \u001b[0mreturn_inverse\u001b[0m\u001b[1;33m=\u001b[0m\u001b[1;32mTrue\u001b[0m\u001b[1;33m)\u001b[0m\u001b[1;33m\u001b[0m\u001b[1;33m\u001b[0m\u001b[0m\n\u001b[0;32m    116\u001b[0m     \u001b[0mn_classes\u001b[0m \u001b[1;33m=\u001b[0m \u001b[0mclasses\u001b[0m\u001b[1;33m.\u001b[0m\u001b[0mshape\u001b[0m\u001b[1;33m[\u001b[0m\u001b[1;36m0\u001b[0m\u001b[1;33m]\u001b[0m\u001b[1;33m\u001b[0m\u001b[1;33m\u001b[0m\u001b[0m\n",
      "\u001b[1;32mc:\\users\\lkrei\\appdata\\local\\programs\\python\\python37\\lib\\site-packages\\numpy\\lib\\arraysetops.py\u001b[0m in \u001b[0;36munique\u001b[1;34m(ar, return_index, return_inverse, return_counts, axis)\u001b[0m\n\u001b[0;32m    262\u001b[0m     \u001b[0mar\u001b[0m \u001b[1;33m=\u001b[0m \u001b[0mnp\u001b[0m\u001b[1;33m.\u001b[0m\u001b[0masanyarray\u001b[0m\u001b[1;33m(\u001b[0m\u001b[0mar\u001b[0m\u001b[1;33m)\u001b[0m\u001b[1;33m\u001b[0m\u001b[1;33m\u001b[0m\u001b[0m\n\u001b[0;32m    263\u001b[0m     \u001b[1;32mif\u001b[0m \u001b[0maxis\u001b[0m \u001b[1;32mis\u001b[0m \u001b[1;32mNone\u001b[0m\u001b[1;33m:\u001b[0m\u001b[1;33m\u001b[0m\u001b[1;33m\u001b[0m\u001b[0m\n\u001b[1;32m--> 264\u001b[1;33m         \u001b[0mret\u001b[0m \u001b[1;33m=\u001b[0m \u001b[0m_unique1d\u001b[0m\u001b[1;33m(\u001b[0m\u001b[0mar\u001b[0m\u001b[1;33m,\u001b[0m \u001b[0mreturn_index\u001b[0m\u001b[1;33m,\u001b[0m \u001b[0mreturn_inverse\u001b[0m\u001b[1;33m,\u001b[0m \u001b[0mreturn_counts\u001b[0m\u001b[1;33m)\u001b[0m\u001b[1;33m\u001b[0m\u001b[1;33m\u001b[0m\u001b[0m\n\u001b[0m\u001b[0;32m    265\u001b[0m         \u001b[1;32mreturn\u001b[0m \u001b[0m_unpack_tuple\u001b[0m\u001b[1;33m(\u001b[0m\u001b[0mret\u001b[0m\u001b[1;33m)\u001b[0m\u001b[1;33m\u001b[0m\u001b[1;33m\u001b[0m\u001b[0m\n\u001b[0;32m    266\u001b[0m \u001b[1;33m\u001b[0m\u001b[0m\n",
      "\u001b[1;32mc:\\users\\lkrei\\appdata\\local\\programs\\python\\python37\\lib\\site-packages\\numpy\\lib\\arraysetops.py\u001b[0m in \u001b[0;36m_unique1d\u001b[1;34m(ar, return_index, return_inverse, return_counts)\u001b[0m\n\u001b[0;32m    307\u001b[0m \u001b[1;33m\u001b[0m\u001b[0m\n\u001b[0;32m    308\u001b[0m     \u001b[1;32mif\u001b[0m \u001b[0moptional_indices\u001b[0m\u001b[1;33m:\u001b[0m\u001b[1;33m\u001b[0m\u001b[1;33m\u001b[0m\u001b[0m\n\u001b[1;32m--> 309\u001b[1;33m         \u001b[0mperm\u001b[0m \u001b[1;33m=\u001b[0m \u001b[0mar\u001b[0m\u001b[1;33m.\u001b[0m\u001b[0margsort\u001b[0m\u001b[1;33m(\u001b[0m\u001b[0mkind\u001b[0m\u001b[1;33m=\u001b[0m\u001b[1;34m'mergesort'\u001b[0m \u001b[1;32mif\u001b[0m \u001b[0mreturn_index\u001b[0m \u001b[1;32melse\u001b[0m \u001b[1;34m'quicksort'\u001b[0m\u001b[1;33m)\u001b[0m\u001b[1;33m\u001b[0m\u001b[1;33m\u001b[0m\u001b[0m\n\u001b[0m\u001b[0;32m    310\u001b[0m         \u001b[0maux\u001b[0m \u001b[1;33m=\u001b[0m \u001b[0mar\u001b[0m\u001b[1;33m[\u001b[0m\u001b[0mperm\u001b[0m\u001b[1;33m]\u001b[0m\u001b[1;33m\u001b[0m\u001b[1;33m\u001b[0m\u001b[0m\n\u001b[0;32m    311\u001b[0m     \u001b[1;32melse\u001b[0m\u001b[1;33m:\u001b[0m\u001b[1;33m\u001b[0m\u001b[1;33m\u001b[0m\u001b[0m\n",
      "\u001b[1;31mTypeError\u001b[0m: '<' not supported between instances of 'int' and 'str'"
     ]
    }
   ],
   "source": [
    "#We want to calculate the independency between Browser and Mail\n",
    "#For this we create a contingenztable\n",
    "from sklearn.metrics.cluster import contingency_matrix\n",
    "#tab_email_browser = contingency_matrix(factor_mail,factor_browser)\n",
    "\n",
    "x = [\"a\", \"a\", \"a\", \"b\", \"b\", \"b\"]\n",
    "y = [0, 0, 1, 1, 2, 2]\n",
    "print(contingency_matrix(x, y))\n",
    "\n",
    "print(factor_browser)\n",
    "print(factor_mail)\n",
    "print(contingency_matrix(factor_browser, factor_mail))"
   ]
  },
  {
   "cell_type": "code",
   "execution_count": null,
   "metadata": {},
   "outputs": [],
   "source": []
  }
 ],
 "metadata": {
  "kernelspec": {
   "display_name": "Python 3",
   "language": "python",
   "name": "python3"
  },
  "language_info": {
   "codemirror_mode": {
    "name": "ipython",
    "version": 3
   },
   "file_extension": ".py",
   "mimetype": "text/x-python",
   "name": "python",
   "nbconvert_exporter": "python",
   "pygments_lexer": "ipython3",
   "version": "3.7.3"
  }
 },
 "nbformat": 4,
 "nbformat_minor": 2
}

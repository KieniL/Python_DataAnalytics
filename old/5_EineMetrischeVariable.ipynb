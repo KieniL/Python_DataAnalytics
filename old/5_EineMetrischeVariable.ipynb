{
 "cells": [
  {
   "cell_type": "code",
   "execution_count": 4,
   "metadata": {},
   "outputs": [
    {
     "name": "stdout",
     "output_type": "stream",
     "text": [
      "    66 174 188 161 157\n",
      "0  178 143 184 159 178\n",
      "1  157 183 152 174 189\n",
      "2  176 174 177 176 159\n",
      "3               207 ??\n"
     ]
    }
   ],
   "source": [
    "import pandas as pd\n",
    "\n",
    "filePath = \"C:\\\\Users\\\\lkrei\\\\Desktop\\\\Python\\\\Datenanalyse\\\\Einheit 5\\\\bugfix.txt\"\n",
    "\n",
    "data = pd.read_csv(filePath, sep=\"\\t\")\n",
    "print(data.head())"
   ]
  },
  {
   "cell_type": "code",
   "execution_count": 6,
   "metadata": {},
   "outputs": [
    {
     "data": {
      "text/plain": [
       "(array([4.0000e+00, 2.0000e+01, 7.9000e+01, 2.5300e+02, 8.1900e+02,\n",
       "        2.1060e+03, 4.2870e+03, 7.6790e+03, 1.1913e+04, 1.5065e+04,\n",
       "        1.6041e+04, 1.5027e+04, 1.1751e+04, 7.6950e+03, 4.1330e+03,\n",
       "        1.9720e+03, 7.9200e+02, 2.6900e+02, 7.7000e+01, 1.8000e+01]),\n",
       " array([0.3440221 , 0.78863321, 1.23324433, 1.67785545, 2.12246657,\n",
       "        2.56707769, 3.01168881, 3.45629993, 3.90091104, 4.34552216,\n",
       "        4.79013328, 5.2347444 , 5.67935552, 6.12396664, 6.56857776,\n",
       "        7.01318887, 7.45779999, 7.90241111, 8.34702223, 8.79163335,\n",
       "        9.23624447]),\n",
       " <a list of 20 Patch objects>)"
      ]
     },
     "execution_count": 6,
     "metadata": {},
     "output_type": "execute_result"
    },
    {
     "data": {
      "image/png": "[encoded data removed]",
      "text/plain": [
       "<Figure size 432x288 with 2 Axes>"
      ]
     },
     "metadata": {
      "needs_background": "light"
     },
     "output_type": "display_data"
    }
   ],
   "source": [
    "import matplotlib.pyplot as plt \n",
    "import numpy as np\n",
    "\n",
    "N_points = 100000\n",
    "n_bins = 20\n",
    "\n",
    "# Generate a normal distribution, center at x=0 and y=5\n",
    "x = np.random.randn(N_points)\n",
    "y = .4 * x + np.random.randn(100000) + 5\n",
    "\n",
    "fig, axs = plt.subplots(1, 2, sharey=True, tight_layout=True)\n",
    "\n",
    "# We can set the number of bins with the `bins` kwarg\n",
    "axs[0].hist(x, bins=n_bins)\n",
    "axs[1].hist(y, bins=n_bins)"
   ]
  },
  {
   "cell_type": "code",
   "execution_count": null,
   "metadata": {},
   "outputs": [],
   "source": []
  }
 ],
 "metadata": {
  "kernelspec": {
   "display_name": "Python 3",
   "language": "python",
   "name": "python3"
  },
  "language_info": {
   "codemirror_mode": {
    "name": "ipython",
    "version": 3
   },
   "file_extension": ".py",
   "mimetype": "text/x-python",
   "name": "python",
   "nbconvert_exporter": "python",
   "pygments_lexer": "ipython3",
   "version": "3.7.3"
  }
 },
 "nbformat": 4,
 "nbformat_minor": 2
}

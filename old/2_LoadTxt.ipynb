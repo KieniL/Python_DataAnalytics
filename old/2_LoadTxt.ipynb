{
 "cells": [
  {
   "cell_type": "code",
   "execution_count": 1,
   "metadata": {},
   "outputs": [
    {
     "name": "stdout",
     "output_type": "stream",
     "text": [
      "   Sodium.mg.  Sugar.g. Type\n",
      "0           0      11.4    A\n",
      "1         340      18.9    A\n",
      "2          70       6.1    A\n",
      "3         140      14.7    C\n",
      "4         200      13.1    C\n"
     ]
    },
    {
     "data": {
      "text/plain": [
       "Sodium.mg.      int64\n",
       "Sugar.g.      float64\n",
       "Type           object\n",
       "dtype: object"
      ]
     },
     "execution_count": 1,
     "metadata": {},
     "output_type": "execute_result"
    }
   ],
   "source": [
    "import pandas as pd\n",
    "\n",
    "#dtypes = {{'Sodium.mg.': int, 'Sugar.g.': int, 'Type': string}}\n",
    "filePath = \"C:\\\\Users\\\\lkrei\\\\Desktop\\\\Python\\\\Datenanalyse\\\\Einheit 2\\\\cereal\\\\cereal_1.txt\"\n",
    "data = pd.read_csv(filePath, sep = \" \", header=0, decimal=\",\")\n",
    "print(data.head())\n",
    "\n",
    "data.dtypes"
   ]
  },
  {
   "cell_type": "code",
   "execution_count": 2,
   "metadata": {
    "hideCode": true,
    "hideOutput": false,
    "hidePrompt": false
   },
   "outputs": [
    {
     "name": "stdout",
     "output_type": "stream",
     "text": [
      "   1    0  11.4  A\n",
      "0  2  340  18.9  A\n",
      "1  3   70   6.1  A\n",
      "2  4  140  14.7  C\n",
      "3  5  200  13.1  C\n",
      "4  6  180   1.4  C\n"
     ]
    },
    {
     "data": {
      "text/plain": [
       "1         int64\n",
       "0         int64\n",
       "11.4    float64\n",
       "A        object\n",
       "dtype: object"
      ]
     },
     "execution_count": 2,
     "metadata": {},
     "output_type": "execute_result"
    }
   ],
   "source": [
    "\n",
    "filePath = \"C:\\\\Users\\\\lkrei\\\\Desktop\\\\Python\\\\Datenanalyse\\\\Einheit 2\\\\cereal\\\\cereal_2.txt\"\n",
    "data = pd.read_csv(filePath, sep = \" \", decimal=\".\")\n",
    "print(data.head())\n",
    "\n",
    "data.dtypes"
   ]
  },
  {
   "cell_type": "code",
   "execution_count": 3,
   "metadata": {},
   "outputs": [
    {
     "name": "stdout",
     "output_type": "stream",
     "text": [
      "   Unnamed: 0  Sodium.mg.  Sugar.g. Type\n",
      "0           1           0      11.4    A\n",
      "1           2         340      18.9    A\n",
      "2           3          70       6.1    A\n",
      "3           4         140      14.7    C\n",
      "4           5         200      13.1    C\n"
     ]
    },
    {
     "data": {
      "text/plain": [
       "Unnamed: 0      int64\n",
       "Sodium.mg.      int64\n",
       "Sugar.g.      float64\n",
       "Type           object\n",
       "dtype: object"
      ]
     },
     "execution_count": 3,
     "metadata": {},
     "output_type": "execute_result"
    }
   ],
   "source": [
    "filePath = \"C:\\\\Users\\\\lkrei\\\\Desktop\\\\Python\\\\Datenanalyse\\\\Einheit 2\\\\cereal\\\\cereal_3.csv\"\n",
    "data = pd.read_csv(filePath, sep = \",\", decimal=\".\", header=0)\n",
    "print(data.head())\n",
    "\n",
    "data.dtypes"
   ]
  },
  {
   "cell_type": "code",
   "execution_count": 4,
   "metadata": {},
   "outputs": [
    {
     "name": "stdout",
     "output_type": "stream",
     "text": [
      "   Unnamed: 0  Sodium.mg.  Sugar.g. Type\n",
      "0           1           0      11.4    A\n",
      "1           2         340      18.9    A\n",
      "2           3          70       6.1    A\n",
      "3           4         140      14.7    C\n",
      "4           5         200      13.1    C\n"
     ]
    },
    {
     "data": {
      "text/plain": [
       "Unnamed: 0      int64\n",
       "Sodium.mg.      int64\n",
       "Sugar.g.      float64\n",
       "Type           object\n",
       "dtype: object"
      ]
     },
     "execution_count": 4,
     "metadata": {},
     "output_type": "execute_result"
    }
   ],
   "source": [
    "filePath = \"C:\\\\Users\\\\lkrei\\\\Desktop\\\\Python\\\\Datenanalyse\\\\Einheit 2\\\\cereal\\\\cereal_4.csv\"\n",
    "data = pd.read_csv(filePath, sep = \";\", decimal=\",\", header=0)\n",
    "print(data.head())\n",
    "\n",
    "data.dtypes"
   ]
  },
  {
   "cell_type": "code",
   "execution_count": 5,
   "metadata": {},
   "outputs": [
    {
     "name": "stdout",
     "output_type": "stream",
     "text": [
      "   Sodium.mg.  Sugar.g. Type\n",
      "1           0      11.4    A\n",
      "2         340      18.9    A\n",
      "3          70       6.1    A\n",
      "4         140      14.7    C\n",
      "5         200      13.1    C\n"
     ]
    },
    {
     "data": {
      "text/plain": [
       "Sodium.mg.      int64\n",
       "Sugar.g.      float64\n",
       "Type           object\n",
       "dtype: object"
      ]
     },
     "execution_count": 5,
     "metadata": {},
     "output_type": "execute_result"
    }
   ],
   "source": [
    "filePath = \"C:\\\\Users\\\\lkrei\\\\Desktop\\\\Python\\\\Datenanalyse\\\\Einheit 2\\\\cereal\\\\cereal_5.dat\"\n",
    "data = pd.read_csv(filePath, sep = \"-\", decimal=\".\", header=0)\n",
    "print(data.head())\n",
    "\n",
    "data.dtypes"
   ]
  },
  {
   "cell_type": "code",
   "execution_count": 6,
   "metadata": {},
   "outputs": [
    {
     "name": "stdout",
     "output_type": "stream",
     "text": [
      "   1    0  11,4  A\n",
      "0  2  340  18.9  A\n",
      "1  3   70   6.1  A\n",
      "2  4  140  14.7  C\n",
      "3  5  200  13.1  C\n",
      "4  6  180   1.4  C\n"
     ]
    },
    {
     "data": {
      "text/plain": [
       "1         int64\n",
       "0         int64\n",
       "11,4    float64\n",
       "A        object\n",
       "dtype: object"
      ]
     },
     "execution_count": 6,
     "metadata": {},
     "output_type": "execute_result"
    }
   ],
   "source": [
    "filePath = \"C:\\\\Users\\\\lkrei\\\\Desktop\\\\Python\\\\Datenanalyse\\\\Einheit 2\\\\cereal\\\\cereal_6.dat\"\n",
    "data = pd.read_csv(filePath, sep = \";\", decimal=\",\")\n",
    "print(data.head())\n",
    "\n",
    "data.dtypes"
   ]
  },
  {
   "cell_type": "code",
   "execution_count": null,
   "metadata": {},
   "outputs": [],
   "source": []
  }
 ],
 "metadata": {
  "celltoolbar": "Hide code",
  "kernelspec": {
   "display_name": "Python 3",
   "language": "python",
   "name": "python3"
  },
  "language_info": {
   "codemirror_mode": {
    "name": "ipython",
    "version": 3
   },
   "file_extension": ".py",
   "mimetype": "text/x-python",
   "name": "python",
   "nbconvert_exporter": "python",
   "pygments_lexer": "ipython3",
   "version": "3.7.3"
  }
 },
 "nbformat": 4,
 "nbformat_minor": 2
}
